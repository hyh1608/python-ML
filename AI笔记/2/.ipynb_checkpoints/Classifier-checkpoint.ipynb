{
 "cells": [
  {
   "cell_type": "markdown",
   "metadata": {},
   "source": [
    "# 分类器"
   ]
  },
  {
   "cell_type": "markdown",
   "metadata": {},
   "source": [
    "## 简单分类器"
   ]
  },
  {
   "cell_type": "code",
   "execution_count": 1,
   "metadata": {},
   "outputs": [],
   "source": [
    "import numpy as np\n",
    "import matplotlib.pyplot as mp"
   ]
  },
  {
   "cell_type": "code",
   "execution_count": 9,
   "metadata": {},
   "outputs": [
    {
     "data": {
      "image/png": "[encoded data removed]",
      "text/plain": [
       "<matplotlib.figure.Figure at 0x11ba115c0>"
      ]
     },
     "metadata": {},
     "output_type": "display_data"
    }
   ],
   "source": [
    "def make_data():\n",
    "    x = np.array([\n",
    "        [3,1],\n",
    "        [2,5],\n",
    "        [1,8],\n",
    "        [6,4],\n",
    "        [5,2],\n",
    "        [3,5],\n",
    "        [4,7],\n",
    "        [4,-1]\n",
    "    ])\n",
    "    y = np.array([0,1,1,0,0,1,1,0])\n",
    "    return x,y\n",
    "\n",
    "def pred_model(x):\n",
    "    y = np.zero(len(x),dtype=int)\n",
    "    y[x[:,0] < x[:,1]] = 1\n",
    "    return y\n",
    "\n",
    "def init_chart():\n",
    "    mp.gcf().set_facecolor(np.ones(3) * 240 / 255)\n",
    "    mp.title('Simple Classifier',fontsize=20)\n",
    "    mp.xlabel('x',fontsize=14)\n",
    "    mp.ylabel('y',fontsize=14)\n",
    "    ax = mp.gca()\n",
    "    ax.xaxis.set_major_locator(mp.MultipleLocator())\n",
    "    ax.xaxis.set_minor_locator(mp.MultipleLocator(0.5))\n",
    "    ax.yaxis.set_major_locator(mp.MultipleLocator())\n",
    "    ax.yaxis.set_minor_locator(mp.MultipleLocator(0.5))\n",
    "    \n",
    "    mp.tick_params(which='both',top=True,right=True,\n",
    "                  labelright=True,labelsize=10)\n",
    "    mp.grid(axis='y',linestyle=':')\n",
    "    \n",
    "def draw_data(x,y):\n",
    "    # c为颜色，cmap为颜色映射\n",
    "    mp.scatter(x[:,0],x[:,1],c=1-y,cmap='gray',s=80)\n",
    "    mp.show()\n",
    "    \n",
    "def main():\n",
    "    x,y  =  make_data()\n",
    "    # 左，右，和水平方向的步长\n",
    "    l,r,h = x[:,0].min-1,x[:,0].max()+1,0.005\n",
    "    b,t,v = x[:,1].min-1,x[:,1].max()+1,0.005\n",
    "    # 生成网格矩阵\n",
    "    grid_x = np.meshgrid(np.arange(l,r,h),\n",
    "                         np.arange(b,t,v))\n",
    "    \n",
    "    init_chart()\n",
    "    draw_data(x,y)\n",
    "    return 0\n",
    "\n",
    "if __name__ == '__main__':\n",
    "    main()\n",
    "    "
   ]
  },
  {
   "cell_type": "code",
   "execution_count": null,
   "metadata": {},
   "outputs": [],
   "source": []
  }
 ],
 "metadata": {
  "kernelspec": {
   "display_name": "Python 3",
   "language": "python",
   "name": "python3"
  },
  "language_info": {
   "codemirror_mode": {
    "name": "ipython",
    "version": 3
   },
   "file_extension": ".py",
   "mimetype": "text/x-python",
   "name": "python",
   "nbconvert_exporter": "python",
   "pygments_lexer": "ipython3",
   "version": "3.6.4"
  }
 },
 "nbformat": 4,
 "nbformat_minor": 2
}
