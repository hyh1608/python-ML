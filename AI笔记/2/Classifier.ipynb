{
 "cells": [
  {
   "cell_type": "markdown",
   "metadata": {},
   "source": [
    "# 分类器"
   ]
  },
  {
   "cell_type": "markdown",
   "metadata": {},
   "source": [
    "## 简单分类器"
   ]
  },
  {
   "cell_type": "code",
   "execution_count": 11,
   "metadata": {},
   "outputs": [],
   "source": [
    "import numpy as np\n",
    "import matplotlib.pyplot as mp\n",
    "import sklearn.linear_model as sl"
   ]
  },
  {
   "cell_type": "code",
   "execution_count": 10,
   "metadata": {},
   "outputs": [
    {
     "name": "stdout",
     "output_type": "stream",
     "text": [
      "[[0 0 0 ... 0 0 0]\n",
      " [0 0 0 ... 0 0 0]\n",
      " [0 0 0 ... 0 0 0]\n",
      " ...\n",
      " [1 1 1 ... 1 1 1]\n",
      " [1 1 1 ... 1 1 1]\n",
      " [1 1 1 ... 1 1 1]]\n"
     ]
    },
    {
     "data": {
      "image/png": "[encoded data removed]",
      "text/plain": [
       "<matplotlib.figure.Figure at 0x1354e67f0>"
      ]
     },
     "metadata": {},
     "output_type": "display_data"
    }
   ],
   "source": [
    "def make_data():\n",
    "    x = np.array([\n",
    "        [3,1],\n",
    "        [2,5],\n",
    "        [1,8],\n",
    "        [6,4],\n",
    "        [5,2],\n",
    "        [3,5],\n",
    "        [4,7],\n",
    "        [4,-1]\n",
    "    ])\n",
    "    y = np.array([0,1,1,0,0,1,1,0])\n",
    "    return x,y\n",
    "\n",
    "def pred_model(x):\n",
    "    y = np.zeros(len(x),dtype=int)\n",
    "    y[x[:,0] < x[:,1]] = 1\n",
    "    return y\n",
    "\n",
    "def init_chart():\n",
    "    mp.gcf().set_facecolor(np.ones(3) * 240 / 255)\n",
    "    mp.title('Simple Classifier',fontsize=20)\n",
    "    mp.xlabel('x',fontsize=14)\n",
    "    mp.ylabel('y',fontsize=14)\n",
    "    ax = mp.gca()\n",
    "    # 设置刻度定位器\n",
    "    ax.xaxis.set_major_locator(mp.MultipleLocator())\n",
    "    ax.xaxis.set_minor_locator(mp.MultipleLocator(0.5))\n",
    "    ax.yaxis.set_major_locator(mp.MultipleLocator())\n",
    "    ax.yaxis.set_minor_locator(mp.MultipleLocator(0.5))\n",
    "    \n",
    "    mp.tick_params(which='both',top=True,right=True,\n",
    "                  labelright=True,labelsize=10)\n",
    "    mp.grid(axis='y',linestyle=':')\n",
    "    \n",
    "def draw_grid(grid_x,grid_y):\n",
    "    # 伪彩图，可以画出分界线\n",
    "    mp.pcolormesh(grid_x[0],grid_x[1],grid_y,\n",
    "                 cmap='gray')\n",
    "    mp.xlim(grid_x[0].min(),grid_x[0].max())\n",
    "    mp.ylim(grid_x[1].min(),grid_x[1].max())\n",
    "\n",
    "def draw_data(x,y):\n",
    "    # c为颜色，cmap为颜色映射\n",
    "    mp.scatter(x[:,0],x[:,1],c=1-y,cmap='gray',s=80)\n",
    "    mp.show()\n",
    "    \n",
    "def main():\n",
    "    x,y  =  make_data()\n",
    "    # 左，右，和水平方向的步长\n",
    "    l,r,h = x[:,0].min()-1,x[:,0].max()+1,0.005\n",
    "    b,t,v = x[:,1].min()-1,x[:,1].max()+1,0.005\n",
    "    # 生成网格矩阵\n",
    "    grid_x = np.meshgrid(np.arange(l,r,h),\n",
    "                         np.arange(b,t,v))\n",
    "    # print(grid_x)\n",
    "    # ravel()把矩阵展平\n",
    "    grid_y = pred_model(\n",
    "        np.c_[grid_x[0].ravel(),\n",
    "        grid_x[1].ravel()]\n",
    "    ).reshape(grid_x[0].shape)\n",
    "    print(grid_y)\n",
    "    init_chart()\n",
    "    draw_grid(grid_x,grid_y)\n",
    "    draw_data(x,y)\n",
    "    return 0\n",
    "\n",
    "if __name__ == '__main__':\n",
    "    main()\n",
    "    "
   ]
  },
  {
   "cell_type": "markdown",
   "metadata": {},
   "source": [
    "## 逻辑回归分类器"
   ]
  },
  {
   "cell_type": "code",
   "execution_count": 12,
   "metadata": {},
   "outputs": [
    {
     "name": "stderr",
     "output_type": "stream",
     "text": [
      "/Users/kokenhei/anaconda3/lib/python3.6/site-packages/sklearn/linear_model/logistic.py:459: FutureWarning: Default multi_class will be changed to 'auto' in 0.22. Specify the multi_class option to silence this warning.\n",
      "  \"this warning.\", FutureWarning)\n"
     ]
    },
    {
     "name": "stdout",
     "output_type": "stream",
     "text": [
      "[[1 1 1 ... 2 2 2]\n",
      " [1 1 1 ... 2 2 2]\n",
      " [1 1 1 ... 2 2 2]\n",
      " ...\n",
      " [0 0 0 ... 0 0 0]\n",
      " [0 0 0 ... 0 0 0]\n",
      " [0 0 0 ... 0 0 0]]\n"
     ]
    },
    {
     "data": {
      "image/png": "[encoded data removed]",
      "text/plain": [
       "<matplotlib.figure.Figure at 0x116e20320>"
      ]
     },
     "metadata": {},
     "output_type": "display_data"
    }
   ],
   "source": [
    "def make_data():\n",
    "    x = np.array([\n",
    "        [4,7],\n",
    "        [3.5,8],\n",
    "        [3.1,6.2],\n",
    "        [0.5,1],\n",
    "        [1,2],\n",
    "        [1.2,1.9],\n",
    "        [6,2],\n",
    "        [5.7,1.5],\n",
    "        [5.4,2.2]\n",
    "    ])\n",
    "    y = np.array([0,0,0,1,1,1,2,2,2])\n",
    "    return x,y\n",
    "\n",
    "def train_model(x,y):\n",
    "    # solver为回归算法，liblinear是线性算法器\n",
    "    # C惩罚系数\n",
    "    model = sl.LogisticRegression(solver='liblinear',\n",
    "                                 C=100,)\n",
    "    model.fit(x,y)\n",
    "    return model\n",
    "    \n",
    "\n",
    "def pred_model(model,x):\n",
    "    y = model.predict(x)\n",
    "    return y\n",
    "\n",
    "def init_chart():\n",
    "    mp.gcf().set_facecolor(np.ones(3) * 240 / 255)\n",
    "    mp.title('Logistic Classifier',fontsize=20)\n",
    "    mp.xlabel('x',fontsize=14)\n",
    "    mp.ylabel('y',fontsize=14)\n",
    "    ax = mp.gca()\n",
    "    # 设置刻度定位器\n",
    "    ax.xaxis.set_major_locator(mp.MultipleLocator())\n",
    "    ax.xaxis.set_minor_locator(mp.MultipleLocator(0.5))\n",
    "    ax.yaxis.set_major_locator(mp.MultipleLocator())\n",
    "    ax.yaxis.set_minor_locator(mp.MultipleLocator(0.5))\n",
    "    \n",
    "    mp.tick_params(which='both',top=True,right=True,\n",
    "                  labelright=True,labelsize=10)\n",
    "    mp.grid(axis='y',linestyle=':')\n",
    "    \n",
    "def draw_grid(grid_x,grid_y):\n",
    "    # 伪彩图，可以画出分界线\n",
    "    mp.pcolormesh(grid_x[0],grid_x[1],grid_y,\n",
    "                 cmap='brg')\n",
    "    mp.xlim(grid_x[0].min(),grid_x[0].max())\n",
    "    mp.ylim(grid_x[1].min(),grid_x[1].max())\n",
    "\n",
    "def draw_data(x,y):\n",
    "    # c为颜色，cmap为颜色映射\n",
    "    mp.scatter(x[:,0],x[:,1],c=y,cmap='RdYlBu',s=80)\n",
    "    mp.show()\n",
    "    \n",
    "def main():\n",
    "    x,y  =  make_data()\n",
    "    # 左，右，和水平方向的步长\n",
    "    l,r,h = x[:,0].min()-1,x[:,0].max()+1,0.005\n",
    "    b,t,v = x[:,1].min()-1,x[:,1].max()+1,0.005\n",
    "    model = train_model(x,y)\n",
    "    # 生成网格矩阵\n",
    "    grid_x = np.meshgrid(np.arange(l,r,h),\n",
    "                         np.arange(b,t,v))\n",
    "    # print(grid_x)\n",
    "    # ravel()把矩阵展平\n",
    "    grid_y = pred_model(\n",
    "        model,\n",
    "        np.c_[grid_x[0].ravel(),\n",
    "        grid_x[1].ravel()]\n",
    "    ).reshape(grid_x[0].shape)\n",
    "    print(grid_y)\n",
    "    init_chart()\n",
    "    draw_grid(grid_x,grid_y)\n",
    "    draw_data(x,y)\n",
    "    return 0\n",
    "\n",
    "if __name__ == '__main__':\n",
    "    main()\n",
    "    "
   ]
  },
  {
   "cell_type": "code",
   "execution_count": null,
   "metadata": {},
   "outputs": [],
   "source": []
  }
 ],
 "metadata": {
  "kernelspec": {
   "display_name": "Python 3",
   "language": "python",
   "name": "python3"
  },
  "language_info": {
   "codemirror_mode": {
    "name": "ipython",
    "version": 3
   },
   "file_extension": ".py",
   "mimetype": "text/x-python",
   "name": "python",
   "nbconvert_exporter": "python",
   "pygments_lexer": "ipython3",
   "version": "3.6.4"
  }
 },
 "nbformat": 4,
 "nbformat_minor": 2
}
