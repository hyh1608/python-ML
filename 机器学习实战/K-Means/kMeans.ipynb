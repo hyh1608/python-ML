{
 "cells": [
  {
   "cell_type": "markdown",
   "metadata": {},
   "source": [
    "# 利用k-Means聚类算法对未标注数据分组"
   ]
  },
  {
   "cell_type": "markdown",
   "metadata": {},
   "source": [
    "## 10.1 K-均值聚类算法\n",
    "1. 优点： 容易实现\n",
    "2. 缺点： 可能收敛到局部最小值，在大规模数据集上收敛较慢\n",
    "3. 适用数据类型： 数值型数据"
   ]
  },
  {
   "cell_type": "markdown",
   "metadata": {},
   "source": [
    "## k-Means聚类的一般流程\n",
    "1. 收集数据： 使用任意方法\n",
    "2. 准备数据： 需要数值型数据来计算距离，也可以将标称型数据映射为二值型数据再用于距离计算\n",
    "3. 分析数据： 使用任意方法\n",
    "4. 训练算法： 不适用于无监督学习，即无监督学习没有训练过程\n",
    "5. 测试算法： 应用聚类算法、观察结果，可以使用量化的误差指标如误差平方和来评价算法的结果\n",
    "6. 使用算法： 可以用于所希望的任何应用，通常情况下，簇质心可以代表整个簇的数据来做出决策"
   ]
  },
  {
   "cell_type": "code",
   "execution_count": 117,
   "metadata": {},
   "outputs": [],
   "source": [
    "## k-Means聚类支持函数\n",
    "from numpy import *\n",
    "\n",
    "# 导入数据\n",
    "def loadDataSet(fileName):\n",
    "    dataMat = []\n",
    "    with open(fileName) as fr:\n",
    "        for line in fr.readlines():\n",
    "            curLine = line.strip().split('\\t')\n",
    "            fltLine = list(map(float,curLine))\n",
    "            dataMat.append(fltLine)\n",
    "    return dataMat\n",
    "\n",
    "#计算两个向量的欧式距离\n",
    "def distEclud(vecA,vecB):\n",
    "    return sqrt(sum(power(vecA - vecB,2)))\n",
    "\n",
    "# 为给定数据集构建一个包含k个随机质心的集合\n",
    "def randCent(dataSet,k):\n",
    "    n = shape(dataSet)[1]\n",
    "    centroids = mat(zeros((k,n)))\n",
    "    #  print(dataSet)\n",
    "    for j in range(n):\n",
    "        try:\n",
    "            minJ = min(dataSet[:,j])\n",
    "            maxJ = max(dataSet[:,j])\n",
    "        except:\n",
    "            print(dataSet)\n",
    "        rangeJ = float(maxJ - minJ)\n",
    "        centroids[:,j] = minJ + rangeJ * random.rand(k,1)\n",
    "    return centroids"
   ]
  },
  {
   "cell_type": "code",
   "execution_count": 118,
   "metadata": {},
   "outputs": [
    {
     "name": "stdout",
     "output_type": "stream",
     "text": [
      "[[-5.379713]]\n",
      "[[-4.232586]]\n",
      "[[4.838138]]\n",
      "[[5.1904]]\n"
     ]
    }
   ],
   "source": [
    "dataMat = mat(loadDataSet('testSet.txt'))\n",
    "# print(dataMat)\n",
    "print(min(dataMat[:,0]))\n",
    "print(min(dataMat[:,1]))\n",
    "print(max(dataMat[:,0]))\n",
    "print(max(dataMat[:,1]))"
   ]
  },
  {
   "cell_type": "code",
   "execution_count": 119,
   "metadata": {},
   "outputs": [
    {
     "name": "stdout",
     "output_type": "stream",
     "text": [
      "[[-0.46629237  2.83074054]\n",
      " [ 1.00458155 -3.09816814]]\n"
     ]
    },
    {
     "data": {
      "text/plain": [
       "5.184632816681332"
      ]
     },
     "execution_count": 119,
     "metadata": {},
     "output_type": "execute_result"
    }
   ],
   "source": [
    "print(randCent(dataMat,2))\n",
    "distEclud(dataMat[0],dataMat[1])"
   ]
  },
  {
   "cell_type": "code",
   "execution_count": 120,
   "metadata": {},
   "outputs": [],
   "source": [
    "## k-Means聚类算法\n",
    "def kMeans(dataSet,k,distMeans=distEclud,createCent=randCent):\n",
    "    '''\n",
    "    参数:\n",
    "    数据集\n",
    "    簇的数目\n",
    "    计算距离的函数\n",
    "    创建初始质心的函数\n",
    "    '''\n",
    "    # 数据集中数据点的总数\n",
    "    m = shape(dataSet)[0]\n",
    "    # 存放簇分类结果，共两列，第一列记录簇索引值，第二列存储误差（即点到质心的距离）\n",
    "    clusterAssment = mat(zeros((m,2)))\n",
    "    # 创建初始质心\n",
    "    centroids = createCent(dataSet,k)\n",
    "    # 标志变量，如果任一点的簇分配结果发生改变，则更新ClusterChanged标志\n",
    "    clusterChanged = True\n",
    "    while clusterChanged:\n",
    "        clusterChanged = False\n",
    "        # 遍历所有数据找到距离每个点最近的质心\n",
    "        for i in range(m):\n",
    "            minDist = inf\n",
    "            minIndex = -1\n",
    "            for j in range(k):\n",
    "                distJI = distMeans(centroids[j,:],dataSet[i,:])\n",
    "                if distJI < minDist:\n",
    "                    minDist = distJI\n",
    "                    minIndex = j\n",
    "            if clusterAssment[i,0] != minIndex:\n",
    "                clusterChanged = True\n",
    "            clusterAssment[i,:] = minIndex,minDist ** 2\n",
    "        # print(\"centroids:\",centroids)\n",
    "        # 遍历所有的质心，更新它们的取值\n",
    "        for cent in range(k):\n",
    "            ptsInClust = dataSet[nonzero(clusterAssment[:,0].A == cent)[0]]\n",
    "            # 按列求平均\n",
    "            centroids[cent,:] = mean(ptsInClust,axis=0)\n",
    "    print(\"centroids:\",centroids)\n",
    "    return centroids,clusterAssment"
   ]
  },
  {
   "cell_type": "code",
   "execution_count": 121,
   "metadata": {},
   "outputs": [
    {
     "name": "stdout",
     "output_type": "stream",
     "text": [
      "centroids: [[-2.46154315  2.78737555]\n",
      " [-3.53973889 -2.89384326]\n",
      " [ 2.65077367 -2.79019029]\n",
      " [ 2.6265299   3.10868015]]\n"
     ]
    }
   ],
   "source": [
    "dataMat = mat(loadDataSet('testSet.txt'))\n",
    "mycentroids,clusterAssment = kMeans(dataMat,4)"
   ]
  },
  {
   "cell_type": "markdown",
   "metadata": {},
   "source": [
    "> 上面的结果可以看出经过3次迭代之后，K-均值算法收敛，共有4个质心"
   ]
  },
  {
   "cell_type": "markdown",
   "metadata": {},
   "source": [
    "## 10.2 使用后处理来提高聚类性能\n",
    "1. 度量聚类效果的指标是SSE\n",
    "2. SSE值越小表示数据点越接近于它们的质心\n",
    "3. 后处理：一种方法是将具有最大的SSE值的簇划分成两个簇\n",
    "    具体实现方法：可以将最大簇包含的点过滤出来并在这些点上运行k-means算法，其中k=2\n",
    "4. 为了保持簇总数不变，可以将两个簇进行合并，合并最近的质心，或者合并两个使得SSE值增幅最小的质心"
   ]
  },
  {
   "cell_type": "markdown",
   "metadata": {},
   "source": [
    "## 10.3 二分 k-means 算法\n",
    "选择SSE最大的簇进行划分，直到簇数目达到用户指定的数目为止"
   ]
  },
  {
   "cell_type": "code",
   "execution_count": 122,
   "metadata": {},
   "outputs": [],
   "source": [
    "## 二分 k - means 均值聚类算法\n",
    "def biKmeans(dataSet,k,distMeans = distEclud):\n",
    "    m = shape(dataSet)[0]\n",
    "    # 簇分配结果矩阵\n",
    "    clusterAssment = mat(zeros((m,2)))\n",
    "    #计算整个数据集的每个特征的质心，centroid0:1*n列表\n",
    "    centroid0 = mean(dataSet,axis=0).tolist()[0]\n",
    "    #用centList列表保存所有质心\n",
    "    centList = [centroid0]\n",
    "    #遍历所有点，计算每个点到质心的误差值，并保存\n",
    "    for j in range(m):\n",
    "        clusterAssment[j,1] = distMeans(mat(centroid0),dataSet[j,:]) ** 2\n",
    "    while (len(centList) < k):\n",
    "        lowestSSE = inf\n",
    "        #遍历簇列表中的每个簇，然后将每个簇都生成两个簇，同时给出每个簇的误差\n",
    "        for i in range(len(centList)):\n",
    "            ptsInCurrCluster = dataSet[nonzero(clusterAssment[:,0].A==i)[0]]\n",
    "            print(\"ptsInCurrCluster长度\",len(ptsInCurrCluster))\n",
    "            centroidMat,splitClustAss = kMeans(ptsInCurrCluster,2,distMeans)\n",
    "            sseSplit = sum(splitClustAss[:,1])\n",
    "            # print(\"i:\",i)\n",
    "            #剩余数据集的误差\n",
    "            sseNotSplit = sum(clusterAssment[nonzero(clusterAssment[:,0].A!=i)[0],1])\n",
    "            print(\"sseSplit,and notDplit:\",sseSplit,sseNotSplit)\n",
    "            # 将该簇划分后的误差和剩余数据的误差之和作为本次最终误差，\n",
    "            # 若本次划分的SSE值最小，则本次划分保存，即执行划分操作\n",
    "            if (sseSplit + sseNotSplit) < lowestSSE:\n",
    "                bestCentToSplit = i\n",
    "                bestNewCents = centroidMat\n",
    "                bestClustAss = splitClustAss.copy()\n",
    "                lowestSEE = sseSplit + sseNotSplit\n",
    "        #更新簇的分配结果，且新的质点会被添加到centList中\n",
    "        bestClustAss[nonzero(bestClustAss[:,0].A==1)[0],0] = len(centList)\n",
    "        bestClustAss[nonzero(bestClustAss[:,0].A==0)[0],0] = bestCentToSplit\n",
    "        print(\"最佳分割点\",bestCentToSplit)\n",
    "        print(\"最佳聚类簇分配矩阵长度\",len(bestClustAss))\n",
    "        centList[bestCentToSplit] = bestNewCents[0,:]\n",
    "        centList.append(bestNewCents[1,:])\n",
    "        clusterAssment[nonzero(clusterAssment[:,0].A == bestCentToSplit)[0],:] = bestClustAss\n",
    "        print(\"clusterAssment:\",clusterAssment)\n",
    "    return centList,clusterAssment"
   ]
  },
  {
   "cell_type": "code",
   "execution_count": 123,
   "metadata": {},
   "outputs": [
    {
     "name": "stdout",
     "output_type": "stream",
     "text": [
      "ptsInCurrCluster长度 60\n",
      "centroids: [[-0.00675605  3.22710297]\n",
      " [-0.45965615 -2.7782156 ]]\n",
      "sseSplit,and notDplit: 453.0334895807502 0.0\n",
      "最佳分割点 0\n",
      "最佳聚类簇分配矩阵长度 60\n",
      "clusterAssment: [[0.00000000e+00 1.08435724e+01]\n",
      " [0.00000000e+00 1.15291655e+01]\n",
      " [1.00000000e+00 1.02184582e+00]\n",
      " [0.00000000e+00 3.55915016e+00]\n",
      " [0.00000000e+00 4.74982956e+00]\n",
      " [1.00000000e+00 3.87167519e+00]\n",
      " [0.00000000e+00 7.83989775e+00]\n",
      " [0.00000000e+00 9.61405951e+00]\n",
      " [1.00000000e+00 3.53809057e+00]\n",
      " [0.00000000e+00 1.37355664e+01]\n",
      " [0.00000000e+00 4.39471728e-01]\n",
      " [1.00000000e+00 2.56674394e-02]\n",
      " [0.00000000e+00 5.47620209e+00]\n",
      " [0.00000000e+00 8.58850041e+00]\n",
      " [1.00000000e+00 2.11734245e+00]\n",
      " [0.00000000e+00 1.44228725e+01]\n",
      " [0.00000000e+00 1.88713505e+01]\n",
      " [1.00000000e+00 9.76749869e-03]\n",
      " [0.00000000e+00 8.25991037e+00]\n",
      " [0.00000000e+00 1.30087682e+01]\n",
      " [1.00000000e+00 9.41791924e-01]\n",
      " [0.00000000e+00 2.78013075e+00]\n",
      " [0.00000000e+00 4.33512814e+00]\n",
      " [1.00000000e+00 1.48785604e-01]\n",
      " [0.00000000e+00 2.08107319e+01]\n",
      " [0.00000000e+00 2.50909313e+01]\n",
      " [1.00000000e+00 1.80316434e+00]\n",
      " [0.00000000e+00 5.18159388e+00]\n",
      " [0.00000000e+00 1.12434093e+01]\n",
      " [1.00000000e+00 1.28807718e+00]\n",
      " [0.00000000e+00 1.45606309e+01]\n",
      " [0.00000000e+00 1.85671532e+01]\n",
      " [1.00000000e+00 2.12516750e+00]\n",
      " [0.00000000e+00 1.54878136e+01]\n",
      " [0.00000000e+00 4.50605356e+00]\n",
      " [1.00000000e+00 8.79445646e-01]\n",
      " [0.00000000e+00 1.34957950e+00]\n",
      " [0.00000000e+00 4.54298923e+00]\n",
      " [1.00000000e+00 2.36276631e+00]\n",
      " [0.00000000e+00 7.04284979e+00]\n",
      " [0.00000000e+00 2.72580131e+00]\n",
      " [1.00000000e+00 2.10599050e+00]\n",
      " [0.00000000e+00 2.13669430e+01]\n",
      " [0.00000000e+00 1.96409912e+01]\n",
      " [1.00000000e+00 1.54957269e+00]\n",
      " [0.00000000e+00 1.08975649e+01]\n",
      " [0.00000000e+00 1.81786166e+01]\n",
      " [1.00000000e+00 1.13851139e+00]\n",
      " [0.00000000e+00 2.18932141e+01]\n",
      " [0.00000000e+00 4.13599108e+00]\n",
      " [1.00000000e+00 1.98934951e-01]\n",
      " [0.00000000e+00 1.65382537e+01]\n",
      " [0.00000000e+00 9.58029775e+00]\n",
      " [1.00000000e+00 2.16005416e+00]\n",
      " [0.00000000e+00 1.79684109e+00]\n",
      " [0.00000000e+00 8.44901796e+00]\n",
      " [1.00000000e+00 2.60198288e-01]\n",
      " [0.00000000e+00 8.82797533e+00]\n",
      " [0.00000000e+00 1.34074201e+01]\n",
      " [1.00000000e+00 1.61040000e+00]]\n",
      "ptsInCurrCluster长度 40\n",
      "centroids: [[ 2.93386365  3.12782785]\n",
      " [-2.94737575  3.3263781 ]]\n",
      "sseSplit,and notDplit: 77.59224931775066 29.15724944412535\n",
      "ptsInCurrCluster长度 20\n",
      "centroids: [[ 0.35496167 -3.36033556]\n",
      " [-1.12616164 -2.30193564]]\n",
      "sseSplit,and notDplit: 12.753263136887313 423.8762401366249\n",
      "最佳分割点 1\n",
      "最佳聚类簇分配矩阵长度 20\n",
      "clusterAssment: [[0.00000000e+00 1.08435724e+01]\n",
      " [0.00000000e+00 1.15291655e+01]\n",
      " [1.00000000e+00 2.64059167e-04]\n",
      " [0.00000000e+00 3.55915016e+00]\n",
      " [0.00000000e+00 4.74982956e+00]\n",
      " [2.00000000e+00 2.02684498e+00]\n",
      " [0.00000000e+00 7.83989775e+00]\n",
      " [0.00000000e+00 9.61405951e+00]\n",
      " [2.00000000e+00 1.28536027e+00]\n",
      " [0.00000000e+00 1.37355664e+01]\n",
      " [0.00000000e+00 4.39471728e-01]\n",
      " [2.00000000e+00 5.44202925e-01]\n",
      " [0.00000000e+00 5.47620209e+00]\n",
      " [0.00000000e+00 8.58850041e+00]\n",
      " [1.00000000e+00 7.99731619e-01]\n",
      " [0.00000000e+00 1.44228725e+01]\n",
      " [0.00000000e+00 1.88713505e+01]\n",
      " [2.00000000e+00 5.92451408e-01]\n",
      " [0.00000000e+00 8.25991037e+00]\n",
      " [0.00000000e+00 1.30087682e+01]\n",
      " [1.00000000e+00 9.80023858e-01]\n",
      " [0.00000000e+00 2.78013075e+00]\n",
      " [0.00000000e+00 4.33512814e+00]\n",
      " [2.00000000e+00 2.02256283e-01]\n",
      " [0.00000000e+00 2.08107319e+01]\n",
      " [0.00000000e+00 2.50909313e+01]\n",
      " [2.00000000e+00 9.46785217e-01]\n",
      " [0.00000000e+00 5.18159388e+00]\n",
      " [0.00000000e+00 1.12434093e+01]\n",
      " [2.00000000e+00 6.59749589e-01]\n",
      " [0.00000000e+00 1.45606309e+01]\n",
      " [0.00000000e+00 1.85671532e+01]\n",
      " [2.00000000e+00 4.55903566e-01]\n",
      " [0.00000000e+00 1.54878136e+01]\n",
      " [0.00000000e+00 4.50605356e+00]\n",
      " [2.00000000e+00 1.04224850e+00]\n",
      " [0.00000000e+00 1.34957950e+00]\n",
      " [0.00000000e+00 4.54298923e+00]\n",
      " [1.00000000e+00 2.93533391e-01]\n",
      " [0.00000000e+00 7.04284979e+00]\n",
      " [0.00000000e+00 2.72580131e+00]\n",
      " [2.00000000e+00 6.03460079e-01]\n",
      " [0.00000000e+00 2.13669430e+01]\n",
      " [0.00000000e+00 1.96409912e+01]\n",
      " [1.00000000e+00 2.97071809e-01]\n",
      " [0.00000000e+00 1.08975649e+01]\n",
      " [0.00000000e+00 1.81786166e+01]\n",
      " [1.00000000e+00 1.06694157e+00]\n",
      " [0.00000000e+00 2.18932141e+01]\n",
      " [0.00000000e+00 4.13599108e+00]\n",
      " [1.00000000e+00 3.08641268e-01]\n",
      " [0.00000000e+00 1.65382537e+01]\n",
      " [0.00000000e+00 9.58029775e+00]\n",
      " [1.00000000e+00 2.49228294e-01]\n",
      " [0.00000000e+00 1.79684109e+00]\n",
      " [0.00000000e+00 8.44901796e+00]\n",
      " [2.00000000e+00 3.14973103e-01]\n",
      " [0.00000000e+00 8.82797533e+00]\n",
      " [0.00000000e+00 1.34074201e+01]\n",
      " [1.00000000e+00 8.35913568e-02]]\n"
     ]
    },
    {
     "data": {
      "text/plain": [
       "[matrix([[-0.00675605,  3.22710297]]),\n",
       " matrix([[ 0.35496167, -3.36033556]]),\n",
       " matrix([[-1.12616164, -2.30193564]])]"
      ]
     },
     "execution_count": 123,
     "metadata": {},
     "output_type": "execute_result"
    }
   ],
   "source": [
    "dataMat3 = mat(loadDataSet('testSet2.txt'))\n",
    "centList,myNewAssments = biKmeans(dataMat3,3)\n",
    "centList"
   ]
  },
  {
   "cell_type": "code",
   "execution_count": 124,
   "metadata": {},
   "outputs": [
    {
     "data": {
      "text/plain": [
       "matrix([[-5.379713, -3.362104],\n",
       "        [-3.487105, -1.724432],\n",
       "        [-2.786837, -3.099354],\n",
       "        [-3.195883, -2.283926],\n",
       "        [-3.403367, -2.778288],\n",
       "        [-4.007257, -3.207066],\n",
       "        [-3.674424, -2.261084],\n",
       "        [-2.579316, -3.497576],\n",
       "        [-3.837877, -3.253815],\n",
       "        [-2.121479, -4.232586],\n",
       "        [-3.762093, -2.432191],\n",
       "        [-4.323818, -3.938116],\n",
       "        [-4.009299, -2.978115],\n",
       "        [-3.171184, -3.572452],\n",
       "        [-2.565729, -2.012114],\n",
       "        [-2.651229, -3.103198],\n",
       "        [-4.599622, -2.185829],\n",
       "        [-2.793241, -2.149706],\n",
       "        [-4.905566, -2.91107 ]])"
      ]
     },
     "execution_count": 124,
     "metadata": {},
     "output_type": "execute_result"
    }
   ],
   "source": [
    "dataMat[nonzero(clusterAssment[:,0].A == 1)[0],:]"
   ]
  },
  {
   "cell_type": "code",
   "execution_count": 125,
   "metadata": {},
   "outputs": [
    {
     "data": {
      "text/plain": [
       "matrix([[1.    , 2.3019],\n",
       "        [2.    , 6.683 ]])"
      ]
     },
     "execution_count": 125,
     "metadata": {},
     "output_type": "execute_result"
    }
   ],
   "source": [
    "bestclustAss = matrix([[1,2.3019],\n",
    "                       [2,6.683]])\n",
    "clustAss = matrix([[0,1.44],\n",
    "                  [0,2.77]])\n",
    "clustAss[nonzero(clustAss[:,0].A == 0)[0],:] = bestclustAss\n",
    "clustAss"
   ]
  },
  {
   "cell_type": "code",
   "execution_count": 126,
   "metadata": {},
   "outputs": [
    {
     "data": {
      "text/plain": [
       "matrix([[ 3.        ,  2.3201915 ],\n",
       "        [ 0.        ,  1.39004893],\n",
       "        [ 2.        ,  7.46974076],\n",
       "        [ 1.        ,  3.60477283],\n",
       "        [ 3.        ,  2.7696782 ],\n",
       "        [ 0.        ,  2.80101213],\n",
       "        [ 2.        ,  5.10287596],\n",
       "        [ 1.        ,  1.37029303],\n",
       "        [ 3.        ,  2.29348924],\n",
       "        [ 0.        ,  0.64596748],\n",
       "        [ 2.        ,  1.72819697],\n",
       "        [ 1.        ,  0.60909593],\n",
       "        [ 3.        ,  2.51695402],\n",
       "        [ 0.        ,  0.13871642],\n",
       "        [ 2.        ,  9.12853034],\n",
       "        [ 2.        , 10.63785781],\n",
       "        [ 3.        ,  2.39726914],\n",
       "        [ 0.        ,  3.1024236 ],\n",
       "        [ 2.        ,  0.40704464],\n",
       "        [ 1.        ,  0.49023594],\n",
       "        [ 3.        ,  0.13870613],\n",
       "        [ 0.        ,  0.510241  ],\n",
       "        [ 2.        ,  0.9939764 ],\n",
       "        [ 1.        ,  0.03195031],\n",
       "        [ 3.        ,  1.31601105],\n",
       "        [ 0.        ,  0.90820377],\n",
       "        [ 2.        ,  0.54477501],\n",
       "        [ 1.        ,  0.31668166],\n",
       "        [ 3.        ,  0.21378662],\n",
       "        [ 0.        ,  4.05632356],\n",
       "        [ 2.        ,  4.44962474],\n",
       "        [ 1.        ,  0.41852436],\n",
       "        [ 3.        ,  0.47614274],\n",
       "        [ 0.        ,  1.5441411 ],\n",
       "        [ 2.        ,  6.83764117],\n",
       "        [ 1.        ,  1.28690535],\n",
       "        [ 3.        ,  4.87745774],\n",
       "        [ 0.        ,  3.12703929],\n",
       "        [ 2.        ,  0.05182929],\n",
       "        [ 1.        ,  0.21846598],\n",
       "        [ 3.        ,  0.8849557 ],\n",
       "        [ 0.        ,  0.0798871 ],\n",
       "        [ 2.        ,  0.66874131],\n",
       "        [ 1.        ,  3.80369324],\n",
       "        [ 3.        ,  0.09325235],\n",
       "        [ 0.        ,  0.91370546],\n",
       "        [ 2.        ,  1.24487442],\n",
       "        [ 1.        ,  0.26256416],\n",
       "        [ 3.        ,  0.94698784],\n",
       "        [ 0.        ,  2.63836399],\n",
       "        [ 2.        ,  0.31170066],\n",
       "        [ 1.        ,  1.70528559],\n",
       "        [ 3.        ,  5.46768776],\n",
       "        [ 0.        ,  5.73153563],\n",
       "        [ 2.        ,  0.22210601],\n",
       "        [ 1.        ,  0.22758842],\n",
       "        [ 3.        ,  1.32864695],\n",
       "        [ 0.        ,  0.02380325],\n",
       "        [ 2.        ,  0.76751052],\n",
       "        [ 1.        ,  0.59634253],\n",
       "        [ 3.        ,  0.45550286],\n",
       "        [ 0.        ,  0.01962128],\n",
       "        [ 2.        ,  2.04544706],\n",
       "        [ 1.        ,  1.72614177],\n",
       "        [ 3.        ,  1.2636401 ],\n",
       "        [ 0.        ,  1.33108375],\n",
       "        [ 2.        ,  0.19026129],\n",
       "        [ 1.        ,  0.83327924],\n",
       "        [ 3.        ,  0.09525163],\n",
       "        [ 0.        ,  0.62512976],\n",
       "        [ 2.        ,  0.83358364],\n",
       "        [ 1.        ,  1.62463639],\n",
       "        [ 3.        ,  6.39227291],\n",
       "        [ 0.        ,  0.20120037],\n",
       "        [ 2.        ,  4.12455116],\n",
       "        [ 1.        ,  1.11099937],\n",
       "        [ 3.        ,  0.07060147],\n",
       "        [ 0.        ,  0.2599013 ],\n",
       "        [ 2.        ,  4.39510824],\n",
       "        [ 1.        ,  1.86578044]])"
      ]
     },
     "execution_count": 126,
     "metadata": {},
     "output_type": "execute_result"
    }
   ],
   "source": [
    "clusterAssment"
   ]
  },
  {
   "cell_type": "markdown",
   "metadata": {},
   "source": [
    "## 10.4 示例：对地图上的点进行聚类\n",
    "示例：对于地理数据应用二分K-均值算法  \n",
    "1. 收集数据： 使用Yahoo！PlaceFinder API收集数据（这个API已停用）\n",
    "2. 准备数据： 只保留经纬度信息\n",
    "3. 分析数据： 使用Matplotlib来构建一个二维数据图，其中包含簇与地图\n",
    "4. 训练算法： 训练不适用无监督学习\n",
    "5. 测试算法： 使用10.4节中的biKmeans()函数\n",
    "6. 使用算法： 最后的输出是包含簇及簇中心的地图"
   ]
  },
  {
   "cell_type": "markdown",
   "metadata": {},
   "source": [
    "### 10.4.2 对地理坐标进行聚类\n",
    "需要注意的是：  \n",
    "不能用经纬度直接计算距离，北极附近没走几米的经度变化可能达到数10度，而在赤道附近走相同的距离，带来的经度可能只是零点几  \n",
    "可以用球面余弦定理来计算两个经纬度之间的距离"
   ]
  },
  {
   "cell_type": "code",
   "execution_count": 127,
   "metadata": {},
   "outputs": [],
   "source": [
    "## 球面距离及簇绘图函数\n",
    "def distSLC(vecA,vecB):\n",
    "    a = sin(vecA[0,1]*pi/180) * sin(vecB[0,1]*pi/180)\n",
    "    b = cos(vecA[0,1]*pi/180) * cos(vecB[0,1]*pi/180) * cos(pi * (vecB[0,1]-vecA[0,0])/180)\n",
    "    return arccos(a + b) * 6371\n",
    "\n",
    "import matplotlib\n",
    "import matplotlib.pyplot as plt\n",
    "\n",
    "def clusterClubs(numClust=5):\n",
    "    datList = []\n",
    "    for line in open('places.txt').readlines():\n",
    "        lineArr = line.split('\\t')\n",
    "        datList.append([float(lineArr[4]),float(lineArr[3])])\n",
    "    datMat = mat(datList)\n",
    "    #  print(len(datMat))\n",
    "    myCentroids,clustAssing = biKmeans(datMat,numClust,distMeans=distSLC)\n",
    "    \n",
    "    fig = plt.figure()\n",
    "    rect = [0.1,0.1,0.8,0.8]\n",
    "    scatterMarkers = ['s','o','^','8','p','d','v','h','>','<']\n",
    "    axprops = dict(xticks=[],yticks=[])\n",
    "    ax0 = fig.add_axes(rect,label='ax0',**axprops)\n",
    "    imgP = plt.imread('Portland.png')\n",
    "    ax0.imshow(imgP)\n",
    "    ax1 = fig.add_axes(rect,label='ax1',frameon=False)\n",
    "    for i in range(numClust):\n",
    "        ptsInCurrCluster = datMat[nonzero(clustAssing[:,0].A==i)[0],:]\n",
    "        markerStyle = scatterMarkers[i % len(scatterMarkers)]\n",
    "        ax1.scatter(ptsInCurrCluster[:,0].flatten().A[0],ptsInCurrCluster[:,1].flatten().A[0],\n",
    "                   marker=markerStyle,s=90)\n",
    "    ax1.scatter(myCentroids[:,0].flatten().A[0],myCentroid[:,1].flatten().A[0],marker='+',s=300)\n",
    "    plt.show()"
   ]
  },
  {
   "cell_type": "code",
   "execution_count": 130,
   "metadata": {},
   "outputs": [
    {
     "name": "stdout",
     "output_type": "stream",
     "text": [
      "ptsInCurrCluster长度 69\n",
      "centroids: [[         nan          nan]\n",
      " [-122.6316762   45.5123067]]\n",
      "sseSplit,and notDplit: 6663124362.554555 0.0\n",
      "最佳分割点 0\n",
      "最佳聚类簇分配矩阵长度 69\n",
      "clusterAssment: [[1.00000000e+00 9.66171379e+07]\n",
      " [1.00000000e+00 9.66042283e+07]\n",
      " [1.00000000e+00 9.65944468e+07]\n",
      " [1.00000000e+00 9.66182234e+07]\n",
      " [1.00000000e+00 9.65749960e+07]\n",
      " [1.00000000e+00 9.66037467e+07]\n",
      " [1.00000000e+00 9.67262276e+07]\n",
      " [1.00000000e+00 9.65761262e+07]\n",
      " [1.00000000e+00 9.67868944e+07]\n",
      " [1.00000000e+00 9.67325317e+07]\n",
      " [1.00000000e+00 9.66643797e+07]\n",
      " [1.00000000e+00 9.66192856e+07]\n",
      " [1.00000000e+00 9.66592283e+07]\n",
      " [1.00000000e+00 9.63057183e+07]\n",
      " [1.00000000e+00 9.65537519e+07]\n",
      " [1.00000000e+00 9.65460768e+07]\n",
      " [1.00000000e+00 9.65507611e+07]\n",
      " [1.00000000e+00 9.65073850e+07]\n",
      " [1.00000000e+00 9.64691237e+07]\n",
      " [1.00000000e+00 9.65539267e+07]\n",
      " [1.00000000e+00 9.65509961e+07]\n",
      " [1.00000000e+00 9.64275384e+07]\n",
      " [1.00000000e+00 9.65999269e+07]\n",
      " [1.00000000e+00 9.65952954e+07]\n",
      " [1.00000000e+00 9.65537519e+07]\n",
      " [1.00000000e+00 9.65957848e+07]\n",
      " [1.00000000e+00 9.64296285e+07]\n",
      " [1.00000000e+00 9.64833630e+07]\n",
      " [1.00000000e+00 9.64855403e+07]\n",
      " [1.00000000e+00 9.64992023e+07]\n",
      " [1.00000000e+00 9.66203983e+07]\n",
      " [1.00000000e+00 9.65969111e+07]\n",
      " [1.00000000e+00 9.65506990e+07]\n",
      " [1.00000000e+00 9.66110502e+07]\n",
      " [1.00000000e+00 9.64964404e+07]\n",
      " [1.00000000e+00 9.65952663e+07]\n",
      " [1.00000000e+00 9.64825336e+07]\n",
      " [1.00000000e+00 9.65398387e+07]\n",
      " [1.00000000e+00 9.64063299e+07]\n",
      " [1.00000000e+00 9.65878480e+07]\n",
      " [1.00000000e+00 9.66972714e+07]\n",
      " [1.00000000e+00 9.65429733e+07]\n",
      " [1.00000000e+00 9.65227575e+07]\n",
      " [1.00000000e+00 9.65822881e+07]\n",
      " [1.00000000e+00 9.65368148e+07]\n",
      " [1.00000000e+00 9.65279528e+07]\n",
      " [1.00000000e+00 9.65539559e+07]\n",
      " [1.00000000e+00 9.65130524e+07]\n",
      " [1.00000000e+00 9.64062775e+07]\n",
      " [1.00000000e+00 9.65948293e+07]\n",
      " [1.00000000e+00 9.64952032e+07]\n",
      " [1.00000000e+00 9.66949240e+07]\n",
      " [1.00000000e+00 9.64989925e+07]\n",
      " [1.00000000e+00 9.66601759e+07]\n",
      " [1.00000000e+00 9.64283756e+07]\n",
      " [1.00000000e+00 9.65975267e+07]\n",
      " [1.00000000e+00 9.65965751e+07]\n",
      " [1.00000000e+00 9.65574749e+07]\n",
      " [1.00000000e+00 9.65829892e+07]\n",
      " [1.00000000e+00 9.66223149e+07]\n",
      " [1.00000000e+00 9.65517710e+07]\n",
      " [1.00000000e+00 9.65455408e+07]\n",
      " [1.00000000e+00 9.64691548e+07]\n",
      " [1.00000000e+00 9.65671949e+07]\n",
      " [1.00000000e+00 9.66361310e+07]\n",
      " [1.00000000e+00 9.65464497e+07]\n",
      " [1.00000000e+00 9.64691237e+07]\n",
      " [1.00000000e+00 9.67350245e+07]\n",
      " [1.00000000e+00 9.68187075e+07]]\n",
      "ptsInCurrCluster长度 0\n",
      "[]\n"
     ]
    },
    {
     "name": "stderr",
     "output_type": "stream",
     "text": [
      "/Users/kokenhei/anaconda3/lib/python3.6/site-packages/numpy/matrixlib/defmatrix.py:536: RuntimeWarning: Mean of empty slice.\n",
      "  return N.ndarray.mean(self, axis, dtype, out, keepdims=True)._collapse(axis)\n",
      "/Users/kokenhei/anaconda3/lib/python3.6/site-packages/numpy/core/_methods.py:73: RuntimeWarning: invalid value encountered in true_divide\n",
      "  ret, rcount, out=ret, casting='unsafe', subok=False)\n"
     ]
    },
    {
     "ename": "UnboundLocalError",
     "evalue": "local variable 'maxJ' referenced before assignment",
     "output_type": "error",
     "traceback": [
      "\u001b[0;31m---------------------------------------------------------------------------\u001b[0m",
      "\u001b[0;31mUnboundLocalError\u001b[0m                         Traceback (most recent call last)",
      "\u001b[0;32m<ipython-input-130-dd10f466feb2>\u001b[0m in \u001b[0;36m<module>\u001b[0;34m()\u001b[0m\n\u001b[0;32m----> 1\u001b[0;31m \u001b[0mclusterClubs\u001b[0m\u001b[0;34m(\u001b[0m\u001b[0;36m3\u001b[0m\u001b[0;34m)\u001b[0m\u001b[0;34m\u001b[0m\u001b[0m\n\u001b[0m",
      "\u001b[0;32m<ipython-input-127-e595f273acb1>\u001b[0m in \u001b[0;36mclusterClubs\u001b[0;34m(numClust)\u001b[0m\n\u001b[1;32m     15\u001b[0m     \u001b[0mdatMat\u001b[0m \u001b[0;34m=\u001b[0m \u001b[0mmat\u001b[0m\u001b[0;34m(\u001b[0m\u001b[0mdatList\u001b[0m\u001b[0;34m)\u001b[0m\u001b[0;34m\u001b[0m\u001b[0m\n\u001b[1;32m     16\u001b[0m     \u001b[0;31m#  print(len(datMat))\u001b[0m\u001b[0;34m\u001b[0m\u001b[0;34m\u001b[0m\u001b[0m\n\u001b[0;32m---> 17\u001b[0;31m     \u001b[0mmyCentroids\u001b[0m\u001b[0;34m,\u001b[0m\u001b[0mclustAssing\u001b[0m \u001b[0;34m=\u001b[0m \u001b[0mbiKmeans\u001b[0m\u001b[0;34m(\u001b[0m\u001b[0mdatMat\u001b[0m\u001b[0;34m,\u001b[0m\u001b[0mnumClust\u001b[0m\u001b[0;34m,\u001b[0m\u001b[0mdistMeans\u001b[0m\u001b[0;34m=\u001b[0m\u001b[0mdistSLC\u001b[0m\u001b[0;34m)\u001b[0m\u001b[0;34m\u001b[0m\u001b[0m\n\u001b[0m\u001b[1;32m     18\u001b[0m \u001b[0;34m\u001b[0m\u001b[0m\n\u001b[1;32m     19\u001b[0m     \u001b[0mfig\u001b[0m \u001b[0;34m=\u001b[0m \u001b[0mplt\u001b[0m\u001b[0;34m.\u001b[0m\u001b[0mfigure\u001b[0m\u001b[0;34m(\u001b[0m\u001b[0;34m)\u001b[0m\u001b[0;34m\u001b[0m\u001b[0m\n",
      "\u001b[0;32m<ipython-input-122-9af805b4b4bb>\u001b[0m in \u001b[0;36mbiKmeans\u001b[0;34m(dataSet, k, distMeans)\u001b[0m\n\u001b[1;32m     17\u001b[0m             \u001b[0mptsInCurrCluster\u001b[0m \u001b[0;34m=\u001b[0m \u001b[0mdataSet\u001b[0m\u001b[0;34m[\u001b[0m\u001b[0mnonzero\u001b[0m\u001b[0;34m(\u001b[0m\u001b[0mclusterAssment\u001b[0m\u001b[0;34m[\u001b[0m\u001b[0;34m:\u001b[0m\u001b[0;34m,\u001b[0m\u001b[0;36m0\u001b[0m\u001b[0;34m]\u001b[0m\u001b[0;34m.\u001b[0m\u001b[0mA\u001b[0m\u001b[0;34m==\u001b[0m\u001b[0mi\u001b[0m\u001b[0;34m)\u001b[0m\u001b[0;34m[\u001b[0m\u001b[0;36m0\u001b[0m\u001b[0;34m]\u001b[0m\u001b[0;34m]\u001b[0m\u001b[0;34m\u001b[0m\u001b[0m\n\u001b[1;32m     18\u001b[0m             \u001b[0mprint\u001b[0m\u001b[0;34m(\u001b[0m\u001b[0;34m\"ptsInCurrCluster长度\"\u001b[0m\u001b[0;34m,\u001b[0m\u001b[0mlen\u001b[0m\u001b[0;34m(\u001b[0m\u001b[0mptsInCurrCluster\u001b[0m\u001b[0;34m)\u001b[0m\u001b[0;34m)\u001b[0m\u001b[0;34m\u001b[0m\u001b[0m\n\u001b[0;32m---> 19\u001b[0;31m             \u001b[0mcentroidMat\u001b[0m\u001b[0;34m,\u001b[0m\u001b[0msplitClustAss\u001b[0m \u001b[0;34m=\u001b[0m \u001b[0mkMeans\u001b[0m\u001b[0;34m(\u001b[0m\u001b[0mptsInCurrCluster\u001b[0m\u001b[0;34m,\u001b[0m\u001b[0;36m2\u001b[0m\u001b[0;34m,\u001b[0m\u001b[0mdistMeans\u001b[0m\u001b[0;34m)\u001b[0m\u001b[0;34m\u001b[0m\u001b[0m\n\u001b[0m\u001b[1;32m     20\u001b[0m             \u001b[0msseSplit\u001b[0m \u001b[0;34m=\u001b[0m \u001b[0msum\u001b[0m\u001b[0;34m(\u001b[0m\u001b[0msplitClustAss\u001b[0m\u001b[0;34m[\u001b[0m\u001b[0;34m:\u001b[0m\u001b[0;34m,\u001b[0m\u001b[0;36m1\u001b[0m\u001b[0;34m]\u001b[0m\u001b[0;34m)\u001b[0m\u001b[0;34m\u001b[0m\u001b[0m\n\u001b[1;32m     21\u001b[0m             \u001b[0;31m# print(\"i:\",i)\u001b[0m\u001b[0;34m\u001b[0m\u001b[0;34m\u001b[0m\u001b[0m\n",
      "\u001b[0;32m<ipython-input-120-0de6c32267d2>\u001b[0m in \u001b[0;36mkMeans\u001b[0;34m(dataSet, k, distMeans, createCent)\u001b[0m\n\u001b[1;32m     13\u001b[0m     \u001b[0mclusterAssment\u001b[0m \u001b[0;34m=\u001b[0m \u001b[0mmat\u001b[0m\u001b[0;34m(\u001b[0m\u001b[0mzeros\u001b[0m\u001b[0;34m(\u001b[0m\u001b[0;34m(\u001b[0m\u001b[0mm\u001b[0m\u001b[0;34m,\u001b[0m\u001b[0;36m2\u001b[0m\u001b[0;34m)\u001b[0m\u001b[0;34m)\u001b[0m\u001b[0;34m)\u001b[0m\u001b[0;34m\u001b[0m\u001b[0m\n\u001b[1;32m     14\u001b[0m     \u001b[0;31m# 创建初始质心\u001b[0m\u001b[0;34m\u001b[0m\u001b[0;34m\u001b[0m\u001b[0m\n\u001b[0;32m---> 15\u001b[0;31m     \u001b[0mcentroids\u001b[0m \u001b[0;34m=\u001b[0m \u001b[0mcreateCent\u001b[0m\u001b[0;34m(\u001b[0m\u001b[0mdataSet\u001b[0m\u001b[0;34m,\u001b[0m\u001b[0mk\u001b[0m\u001b[0;34m)\u001b[0m\u001b[0;34m\u001b[0m\u001b[0m\n\u001b[0m\u001b[1;32m     16\u001b[0m     \u001b[0;31m# 标志变量，如果任一点的簇分配结果发生改变，则更新ClusterChanged标志\u001b[0m\u001b[0;34m\u001b[0m\u001b[0;34m\u001b[0m\u001b[0m\n\u001b[1;32m     17\u001b[0m     \u001b[0mclusterChanged\u001b[0m \u001b[0;34m=\u001b[0m \u001b[0;32mTrue\u001b[0m\u001b[0;34m\u001b[0m\u001b[0m\n",
      "\u001b[0;32m<ipython-input-117-ecdbd60e09d9>\u001b[0m in \u001b[0;36mrandCent\u001b[0;34m(dataSet, k)\u001b[0m\n\u001b[1;32m     27\u001b[0m         \u001b[0;32mexcept\u001b[0m\u001b[0;34m:\u001b[0m\u001b[0;34m\u001b[0m\u001b[0m\n\u001b[1;32m     28\u001b[0m             \u001b[0mprint\u001b[0m\u001b[0;34m(\u001b[0m\u001b[0mdataSet\u001b[0m\u001b[0;34m)\u001b[0m\u001b[0;34m\u001b[0m\u001b[0m\n\u001b[0;32m---> 29\u001b[0;31m         \u001b[0mrangeJ\u001b[0m \u001b[0;34m=\u001b[0m \u001b[0mfloat\u001b[0m\u001b[0;34m(\u001b[0m\u001b[0mmaxJ\u001b[0m \u001b[0;34m-\u001b[0m \u001b[0mminJ\u001b[0m\u001b[0;34m)\u001b[0m\u001b[0;34m\u001b[0m\u001b[0m\n\u001b[0m\u001b[1;32m     30\u001b[0m         \u001b[0mcentroids\u001b[0m\u001b[0;34m[\u001b[0m\u001b[0;34m:\u001b[0m\u001b[0;34m,\u001b[0m\u001b[0mj\u001b[0m\u001b[0;34m]\u001b[0m \u001b[0;34m=\u001b[0m \u001b[0mminJ\u001b[0m \u001b[0;34m+\u001b[0m \u001b[0mrangeJ\u001b[0m \u001b[0;34m*\u001b[0m \u001b[0mrandom\u001b[0m\u001b[0;34m.\u001b[0m\u001b[0mrand\u001b[0m\u001b[0;34m(\u001b[0m\u001b[0mk\u001b[0m\u001b[0;34m,\u001b[0m\u001b[0;36m1\u001b[0m\u001b[0;34m)\u001b[0m\u001b[0;34m\u001b[0m\u001b[0m\n\u001b[1;32m     31\u001b[0m     \u001b[0;32mreturn\u001b[0m \u001b[0mcentroids\u001b[0m\u001b[0;34m\u001b[0m\u001b[0m\n",
      "\u001b[0;31mUnboundLocalError\u001b[0m: local variable 'maxJ' referenced before assignment"
     ]
    }
   ],
   "source": [
    "clusterClubs(3)"
   ]
  },
  {
   "cell_type": "code",
   "execution_count": null,
   "metadata": {},
   "outputs": [],
   "source": []
  },
  {
   "cell_type": "code",
   "execution_count": null,
   "metadata": {},
   "outputs": [],
   "source": []
  },
  {
   "cell_type": "code",
   "execution_count": null,
   "metadata": {},
   "outputs": [],
   "source": []
  }
 ],
 "metadata": {
  "kernelspec": {
   "display_name": "Python 3",
   "language": "python",
   "name": "python3"
  },
  "language_info": {
   "codemirror_mode": {
    "name": "ipython",
    "version": 3
   },
   "file_extension": ".py",
   "mimetype": "text/x-python",
   "name": "python",
   "nbconvert_exporter": "python",
   "pygments_lexer": "ipython3",
   "version": "3.6.4"
  }
 },
 "nbformat": 4,
 "nbformat_minor": 2
}
