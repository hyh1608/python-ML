{
 "cells": [
  {
   "cell_type": "markdown",
   "metadata": {},
   "source": [
    "# 使用FP-growth算法来高效发现频繁项集（FP：频繁模式）"
   ]
  },
  {
   "cell_type": "markdown",
   "metadata": {},
   "source": [
    "1. 基于Apriori构建\n",
    "2. 执行速度快于Apriori，性能要好两个数量级以上\n",
    "3. 能够高效地发现频繁项集，但是不能用于发现关联规则"
   ]
  },
  {
   "cell_type": "markdown",
   "metadata": {},
   "source": [
    "## 12.1 FP树：用于编码数据集的有效方式\n",
    "1. 优点： 一般要快于Apriori\n",
    "2. 缺点： 实现比较困难，在某些数据集上性能会下降\n",
    "3. 适用数据类型：标称型数据"
   ]
  },
  {
   "cell_type": "markdown",
   "metadata": {},
   "source": [
    "## FP-gowth的一般流程\n",
    "1. 收集数据：使用任意方法\n",
    "2. 准备数据：由于存储的是集合，所以需要离散数据，如果要处理连续数据，需要将它们量化为离散值\n",
    "3. 分析数据：使用任意方法\n",
    "4. 训练算法：构建一个FP树，并对树进行挖掘\n",
    "5. 测试算法：没有测试过程\n",
    "6. 使用算法：可用于识别经常出现的元素项，从而用于指定决策，推荐元素或进行预测等应用中"
   ]
  },
  {
   "cell_type": "markdown",
   "metadata": {},
   "source": [
    "## 12.2 构建FP树"
   ]
  },
  {
   "cell_type": "code",
   "execution_count": 1,
   "metadata": {},
   "outputs": [],
   "source": [
    "## FP树的类定义\n",
    "class treeNode:\n",
    "    def __init__(self,nameValue,numOccur,parentNode):\n",
    "        # 存放节点的名字变量\n",
    "        self.name = nameValue\n",
    "        self.count = numOccur\n",
    "        # 用于链接相似的元素项\n",
    "        self.nodeLink = None\n",
    "        self.parent = parentNode\n",
    "        self.children = {}\n",
    "        \n",
    "    def inc(self,numOccur):\n",
    "        # 给count变量增加给定值\n",
    "        self.count += numOccur\n",
    "        \n",
    "    def disp(self,ind=1):\n",
    "        print(' '*ind,self.name,'',self.count)\n",
    "        for child in self.children.values():\n",
    "            child.disp(ind+1)"
   ]
  },
  {
   "cell_type": "code",
   "execution_count": 2,
   "metadata": {},
   "outputs": [
    {
     "name": "stdout",
     "output_type": "stream",
     "text": [
      "  pyramid  9\n",
      "   eye  13\n"
     ]
    }
   ],
   "source": [
    "rootNode = treeNode('pyramid',9,None)\n",
    "rootNode.children['eye'] = treeNode('eye',13,None)\n",
    "rootNode.disp()"
   ]
  },
  {
   "cell_type": "code",
   "execution_count": 3,
   "metadata": {},
   "outputs": [
    {
     "data": {
      "text/plain": [
       "{'eye': <__main__.treeNode at 0x10908f6a0>}"
      ]
     },
     "execution_count": 3,
     "metadata": {},
     "output_type": "execute_result"
    }
   ],
   "source": [
    "rootNode.children"
   ]
  },
  {
   "cell_type": "code",
   "execution_count": 4,
   "metadata": {},
   "outputs": [
    {
     "name": "stdout",
     "output_type": "stream",
     "text": [
      "  pyramid  9\n",
      "   eye  13\n",
      "   phoenix  3\n"
     ]
    }
   ],
   "source": [
    "rootNode.children['phoenix'] = treeNode('phoenix',3,None)\n",
    "rootNode.disp()"
   ]
  },
  {
   "cell_type": "markdown",
   "metadata": {},
   "source": [
    "## 构建FP树"
   ]
  },
  {
   "cell_type": "code",
   "execution_count": 5,
   "metadata": {},
   "outputs": [],
   "source": [
    "## FP树构建函数\n",
    "def createTree(dataSet,minSup=1):\n",
    "    headerTable = {}\n",
    "    #遍历一遍扫描数据集并统计每个元素项出现的频度，将这些信息保存在头指针中\n",
    "    for trans in dataSet:\n",
    "        for item in trans:\n",
    "            # get()返回指定键的值，如果不存在，则返回默认值\n",
    "            headerTable[item] = headerTable.get(item,0) + dataSet[trans]\n",
    "    # 接着扫描头指针表删除那些出现次数小于minSup的项。\n",
    "    for k in list(headerTable.keys()):\n",
    "        if headerTable[k] < minSup:\n",
    "            del(headerTable[k])\n",
    "    freqItemSet = set(headerTable.keys())\n",
    "    # 如果所有项都不频繁，无需下一步处理\n",
    "    if len(freqItemSet) == 0:\n",
    "        return None,None\n",
    "    # 对头指针表稍加扩展以便可以保存计数值及指向每种类型第一个元素项的指针\n",
    "    for k in headerTable:\n",
    "        headerTable[k] = [headerTable[k],None]\n",
    "    # 创建只包含空集合的根节点\n",
    "    retTree = treeNode('Null Set',1,None)\n",
    "    for tranSet,count in dataSet.items():\n",
    "        localD = {}\n",
    "        for item in tranSet:\n",
    "            if item in freqItemSet:\n",
    "                localD[item] = headerTable[item][0]\n",
    "        if len(localD) > 0:\n",
    "#             print(localD.items())\n",
    "            orderedItems = [v[0] for v in sorted(localD.items(),key=lambda p:p[1],reverse=True)]\n",
    "#             print(orderedItems)\n",
    "            updateTree(orderedItems,retTree,headerTable,count)\n",
    "#     print(headerTable)\n",
    "    return retTree,headerTable\n",
    "\n",
    "def updateTree(items,inTree,headerTable,count):\n",
    "    if items[0] in inTree.children:\n",
    "        inTree.children[items[0]].inc(count)\n",
    "    else:\n",
    "        inTree.children[items[0]] = treeNode(items[0],count,inTree)\n",
    "        if headerTable[items[0]][1] == None:\n",
    "            headerTable[items[0]][1] = inTree.children[items[0]]\n",
    "        else:\n",
    "            updateHeader(headerTable[items[0]][1],inTree.children[items[0]])\n",
    "    if len(items) > 1:\n",
    "        updateTree(items[1::],inTree.children[items[0]],headerTable,count)\n",
    "        \n",
    "def updateHeader(nodeToTest,targetNode):\n",
    "    while (nodeToTest.nodeLink != None):\n",
    "        nodeToTest = nodeToTest.nodeLink\n",
    "    nodeToTest.nodeLink = targetNode\n",
    "            "
   ]
  },
  {
   "cell_type": "code",
   "execution_count": 6,
   "metadata": {},
   "outputs": [],
   "source": [
    "# 导入数据集\n",
    "def loadSimDat():\n",
    "    simpDat = [['r','z','h','j','p'],\n",
    "              ['z','y','x','w','v','u','t','s'],\n",
    "              ['z'],\n",
    "              ['r','x','n','o','s'],\n",
    "              ['y','r','x','z','q','t','p'],\n",
    "              ['y','z','x','e','q','s','t','m']]\n",
    "    return simpDat\n",
    "\n",
    "def createInitSet(dataSet):\n",
    "    retDict = {}\n",
    "    for trans in dataSet:\n",
    "        retDict[frozenset(trans)] = 1\n",
    "    return retDict"
   ]
  },
  {
   "cell_type": "code",
   "execution_count": 7,
   "metadata": {},
   "outputs": [
    {
     "data": {
      "text/plain": [
       "[['r', 'z', 'h', 'j', 'p'],\n",
       " ['z', 'y', 'x', 'w', 'v', 'u', 't', 's'],\n",
       " ['z'],\n",
       " ['r', 'x', 'n', 'o', 's'],\n",
       " ['y', 'r', 'x', 'z', 'q', 't', 'p'],\n",
       " ['y', 'z', 'x', 'e', 'q', 's', 't', 'm']]"
      ]
     },
     "execution_count": 7,
     "metadata": {},
     "output_type": "execute_result"
    }
   ],
   "source": [
    "simpDat = loadSimDat()\n",
    "simpDat"
   ]
  },
  {
   "cell_type": "code",
   "execution_count": 8,
   "metadata": {},
   "outputs": [
    {
     "data": {
      "text/plain": [
       "{frozenset({'z'}): 1,\n",
       " frozenset({'h', 'j', 'p', 'r', 'z'}): 1,\n",
       " frozenset({'s', 't', 'u', 'v', 'w', 'x', 'y', 'z'}): 1,\n",
       " frozenset({'n', 'o', 'r', 's', 'x'}): 1,\n",
       " frozenset({'p', 'q', 'r', 't', 'x', 'y', 'z'}): 1,\n",
       " frozenset({'e', 'm', 'q', 's', 't', 'x', 'y', 'z'}): 1}"
      ]
     },
     "execution_count": 8,
     "metadata": {},
     "output_type": "execute_result"
    }
   ],
   "source": [
    "initSet = createInitSet(simpDat)\n",
    "initSet"
   ]
  },
  {
   "cell_type": "code",
   "execution_count": 9,
   "metadata": {},
   "outputs": [
    {
     "name": "stdout",
     "output_type": "stream",
     "text": [
      "  Null Set  1\n",
      "   z  5\n",
      "    r  1\n",
      "    x  3\n",
      "     t  3\n",
      "      y  3\n",
      "       s  2\n",
      "       r  1\n",
      "   x  1\n",
      "    r  1\n",
      "     s  1\n"
     ]
    },
    {
     "ename": "AttributeError",
     "evalue": "'NoneType' object has no attribute 'parent'",
     "output_type": "error",
     "traceback": [
      "\u001b[0;31m---------------------------------------------------------------------------\u001b[0m",
      "\u001b[0;31mAttributeError\u001b[0m                            Traceback (most recent call last)",
      "\u001b[0;32m<ipython-input-9-fb523157f640>\u001b[0m in \u001b[0;36m<module>\u001b[0;34m()\u001b[0m\n\u001b[1;32m      1\u001b[0m \u001b[0mmyFPtree\u001b[0m\u001b[0;34m,\u001b[0m\u001b[0mmyHeaderTab\u001b[0m \u001b[0;34m=\u001b[0m \u001b[0mcreateTree\u001b[0m\u001b[0;34m(\u001b[0m\u001b[0minitSet\u001b[0m\u001b[0;34m,\u001b[0m\u001b[0;36m3\u001b[0m\u001b[0;34m)\u001b[0m\u001b[0;34m\u001b[0m\u001b[0m\n\u001b[1;32m      2\u001b[0m \u001b[0mmyFPtree\u001b[0m\u001b[0;34m.\u001b[0m\u001b[0mdisp\u001b[0m\u001b[0;34m(\u001b[0m\u001b[0;34m)\u001b[0m\u001b[0;34m\u001b[0m\u001b[0m\n\u001b[0;32m----> 3\u001b[0;31m \u001b[0mmyHeaderTab\u001b[0m\u001b[0;34m[\u001b[0m\u001b[0;34m't'\u001b[0m\u001b[0;34m]\u001b[0m\u001b[0;34m[\u001b[0m\u001b[0;36m1\u001b[0m\u001b[0;34m]\u001b[0m\u001b[0;34m.\u001b[0m\u001b[0mnodeLink\u001b[0m\u001b[0;34m.\u001b[0m\u001b[0mparent\u001b[0m\u001b[0;34m.\u001b[0m\u001b[0mname\u001b[0m\u001b[0;34m\u001b[0m\u001b[0m\n\u001b[0m",
      "\u001b[0;31mAttributeError\u001b[0m: 'NoneType' object has no attribute 'parent'"
     ]
    }
   ],
   "source": [
    "myFPtree,myHeaderTab = createTree(initSet,3)\n",
    "myFPtree.disp()\n",
    "myHeaderTab['t'][1].nodeLink.parent.name"
   ]
  },
  {
   "cell_type": "code",
   "execution_count": 13,
   "metadata": {},
   "outputs": [],
   "source": [
    "## 发现以给定元素项结尾的所有路径的函数\n",
    "def ascendTree(leafNode,prefixPath):\n",
    "    if leafNode.parent != None:\n",
    "        prefixPath.append(leafNode.name)\n",
    "        ascendTree(leafNode.parent,prefixPath)\n",
    "        \n",
    "def findPrefixPath(basePat,treeNode):\n",
    "    # 条件模式基字典\n",
    "    condPats = {}\n",
    "    while treeNode != None:\n",
    "        prefixPath = []\n",
    "        ascendTree(treeNode,prefixPath)\n",
    "        if len(prefixPath) > 1:\n",
    "            condPats[frozenset(prefixPath[1:])] = treeNode.count\n",
    "        treeNode = treeNode.nodeLink\n",
    "    return condPats"
   ]
  },
  {
   "cell_type": "code",
   "execution_count": 21,
   "metadata": {},
   "outputs": [],
   "source": [
    "## 创建条件FP树\n",
    "## 递归寻找频繁项集的mineTree函数\n",
    "def mineTree(inTree,headerTable,minSup,preFix,freqItemList):\n",
    "    # 对头指针表中的元素按照其出现频率进行排序，按从小到大\n",
    "    bigL = [v[0] for v in sorted(headerTable.items(), key=lambda p:p[1][0])]\n",
    "    print(\"bigL:\",bigL)\n",
    "    for basePat in bigL:\n",
    "        newFreqSet = preFix.copy()\n",
    "        newFreqSet.add(basePat)\n",
    "        freqItemList.append(newFreqSet)\n",
    "        condPattBases = findPrefixPath(basePat,headerTable[basePat][1])\n",
    "        myCondTree,myHead = createTree(condPattBases,minSup)\n",
    "        print('myHead:',myHead)\n",
    "        print('newFreqSet:',newFreqSet)\n",
    "        if myHead != None:\n",
    "            mineTree(myCondTree,myHead,minSup,newFreqSet,freqItemList)\n",
    "            print('conditional tree for:',newFreqSet)\n",
    "            myCondTree.disp(1)"
   ]
  },
  {
   "cell_type": "code",
   "execution_count": 22,
   "metadata": {},
   "outputs": [
    {
     "name": "stdout",
     "output_type": "stream",
     "text": [
      "bigL: ['r', 't', 'y', 's', 'x', 'z']\n",
      "myHead: None\n",
      "newFreqSet: {'r'}\n",
      "myHead: {'z': [3, <__main__.treeNode object at 0x10912a2e8>], 'x': [3, <__main__.treeNode object at 0x10912a320>]}\n",
      "newFreqSet: {'t'}\n",
      "bigL: ['z', 'x']\n",
      "myHead: None\n",
      "newFreqSet: {'z', 't'}\n",
      "myHead: {'z': [3, <__main__.treeNode object at 0x109129278>]}\n",
      "newFreqSet: {'x', 't'}\n",
      "bigL: ['z']\n",
      "myHead: None\n",
      "newFreqSet: {'z', 'x', 't'}\n",
      "conditional tree for: {'x', 't'}\n",
      "  Null Set  1\n",
      "   z  3\n",
      "conditional tree for: {'t'}\n",
      "  Null Set  1\n",
      "   z  3\n",
      "    x  3\n",
      "myHead: {'z': [3, <__main__.treeNode object at 0x109129400>], 'x': [3, <__main__.treeNode object at 0x109129240>], 't': [3, <__main__.treeNode object at 0x1091294e0>]}\n",
      "newFreqSet: {'y'}\n",
      "bigL: ['z', 'x', 't']\n",
      "myHead: None\n",
      "newFreqSet: {'z', 'y'}\n",
      "myHead: {'z': [3, <__main__.treeNode object at 0x109129550>]}\n",
      "newFreqSet: {'y', 'x'}\n",
      "bigL: ['z']\n",
      "myHead: None\n",
      "newFreqSet: {'z', 'y', 'x'}\n",
      "conditional tree for: {'y', 'x'}\n",
      "  Null Set  1\n",
      "   z  3\n",
      "myHead: {'z': [3, <__main__.treeNode object at 0x109129828>], 'x': [3, <__main__.treeNode object at 0x109129898>]}\n",
      "newFreqSet: {'y', 't'}\n",
      "bigL: ['z', 'x']\n",
      "myHead: None\n",
      "newFreqSet: {'z', 'y', 't'}\n",
      "myHead: {'z': [3, <__main__.treeNode object at 0x109129978>]}\n",
      "newFreqSet: {'y', 'x', 't'}\n",
      "bigL: ['z']\n",
      "myHead: None\n",
      "newFreqSet: {'z', 'y', 'x', 't'}\n",
      "conditional tree for: {'y', 'x', 't'}\n",
      "  Null Set  1\n",
      "   z  3\n",
      "conditional tree for: {'y', 't'}\n",
      "  Null Set  1\n",
      "   z  3\n",
      "    x  3\n",
      "conditional tree for: {'y'}\n",
      "  Null Set  1\n",
      "   z  3\n",
      "    x  3\n",
      "     t  3\n",
      "myHead: {'x': [3, <__main__.treeNode object at 0x1090a4940>]}\n",
      "newFreqSet: {'s'}\n",
      "bigL: ['x']\n",
      "myHead: None\n",
      "newFreqSet: {'s', 'x'}\n",
      "conditional tree for: {'s'}\n",
      "  Null Set  1\n",
      "   x  3\n",
      "myHead: {'z': [3, <__main__.treeNode object at 0x1090a4668>]}\n",
      "newFreqSet: {'x'}\n",
      "bigL: ['z']\n",
      "myHead: None\n",
      "newFreqSet: {'z', 'x'}\n",
      "conditional tree for: {'x'}\n",
      "  Null Set  1\n",
      "   z  3\n",
      "myHead: None\n",
      "newFreqSet: {'z'}\n"
     ]
    }
   ],
   "source": [
    "freqItems = []\n",
    "mineTree(myFPtree,myHeaderTab,3,set([]),freqItems)"
   ]
  },
  {
   "cell_type": "code",
   "execution_count": 16,
   "metadata": {},
   "outputs": [
    {
     "data": {
      "text/plain": [
       "{frozenset({'x', 'z'}): 3}"
      ]
     },
     "execution_count": 16,
     "metadata": {},
     "output_type": "execute_result"
    }
   ],
   "source": [
    "findPrefixPath('t',myHeaderTab['t'][1])"
   ]
  },
  {
   "cell_type": "markdown",
   "metadata": {},
   "source": [
    "## 12.5 示例：从新闻网站点击流中挖掘"
   ]
  },
  {
   "cell_type": "code",
   "execution_count": 27,
   "metadata": {},
   "outputs": [
    {
     "name": "stdout",
     "output_type": "stream",
     "text": [
      "[['1', '2', '3'], ['1'], ['4', '5', '6', '7'], ['1', '8'], ['9', '10'], ['11', '6', '12', '13', '14', '15', '16']]\n"
     ]
    }
   ],
   "source": [
    "parsedDat = [line.split() for line in open('kosarak.dat').readlines()]\n",
    "print(parsedDat[:6])\n",
    "initSet = createInitSet(parsedDat)\n",
    "# 寻找至少被10万人浏览过的新闻报道\n",
    "myFPtree,myHeaderTab = createTree(initSet,100000)"
   ]
  },
  {
   "cell_type": "code",
   "execution_count": 28,
   "metadata": {},
   "outputs": [
    {
     "name": "stdout",
     "output_type": "stream",
     "text": [
      "bigL: ['1', '3', '11', '6']\n",
      "myHead: {'6': [107404, <__main__.treeNode object at 0x10dfadcf8>]}\n",
      "newFreqSet: {'1'}\n",
      "bigL: ['6']\n",
      "myHead: None\n",
      "newFreqSet: {'6', '1'}\n",
      "conditional tree for: {'1'}\n",
      "  Null Set  1\n",
      "   6  107404\n",
      "myHead: {'11': [127119, <__main__.treeNode object at 0x10dfb7668>], '6': [186289, <__main__.treeNode object at 0x10dfb7630>]}\n",
      "newFreqSet: {'3'}\n",
      "bigL: ['11', '6']\n",
      "myHead: {'6': [117401, <__main__.treeNode object at 0x10dfc7588>]}\n",
      "newFreqSet: {'3', '11'}\n",
      "bigL: ['6']\n",
      "myHead: None\n",
      "newFreqSet: {'3', '11', '6'}\n",
      "conditional tree for: {'3', '11'}\n",
      "  Null Set  1\n",
      "   6  117401\n",
      "myHead: None\n",
      "newFreqSet: {'3', '6'}\n",
      "conditional tree for: {'3'}\n",
      "  Null Set  1\n",
      "   6  186289\n",
      "    11  117401\n",
      "   11  9718\n",
      "myHead: {'6': [261773, <__main__.treeNode object at 0x10dfdbf60>]}\n",
      "newFreqSet: {'11'}\n",
      "bigL: ['6']\n",
      "myHead: None\n",
      "newFreqSet: {'11', '6'}\n",
      "conditional tree for: {'11'}\n",
      "  Null Set  1\n",
      "   6  261773\n",
      "myHead: None\n",
      "newFreqSet: {'6'}\n"
     ]
    }
   ],
   "source": [
    "myFreqList = []\n",
    "mineTree(myFPtree,myHeaderTab,100000,set([]),myFreqList)"
   ]
  },
  {
   "cell_type": "code",
   "execution_count": null,
   "metadata": {},
   "outputs": [],
   "source": []
  }
 ],
 "metadata": {
  "kernelspec": {
   "display_name": "Python 3",
   "language": "python",
   "name": "python3"
  },
  "language_info": {
   "codemirror_mode": {
    "name": "ipython",
    "version": 3
   },
   "file_extension": ".py",
   "mimetype": "text/x-python",
   "name": "python",
   "nbconvert_exporter": "python",
   "pygments_lexer": "ipython3",
   "version": "3.6.4"
  }
 },
 "nbformat": 4,
 "nbformat_minor": 2
}
