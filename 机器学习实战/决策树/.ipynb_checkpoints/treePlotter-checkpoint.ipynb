{
 "cells": [
  {
   "cell_type": "markdown",
   "metadata": {},
   "source": [
    "# 在python中使用Matplotlib注解绘制树形图"
   ]
  },
  {
   "cell_type": "markdown",
   "metadata": {},
   "source": [
    "**Matplotlib 注解**\n",
    "注解工具：annotations，内嵌支持带箭头的划线工具，可以在其他恰当的地方指向数据位置，并在此处添加描述信息，解释数据内容  \n",
    "annotations中的参数：  \n",
    "annotate(s='备注文本',xy=目标位置,xycoords=目标坐标系,xytext=备注位置,textcoords=备注坐标系,fontsize=字体大小,arrowprops=箭头属性)   \n",
    "\n",
    "s  为注释文本内容   \n",
    "xy 为被注释的坐标点    \n",
    "xytext 为注释文字的坐标位置   \n",
    "xycoords和textcoords是坐标xy与xytext的说明  \n",
    "xycoords和textcoords 参数如下:  \n",
    "\n",
    "| 参数 | 坐标系 | \n",
    "|------|-------|\n",
    "| 'figure points' | 距离图形左下角的点数量 | \n",
    "| 'figure pixels' | 距离图形左下角的像素数量 | \n",
    "| 'figure fraction' | 0,0 是图形左下角，1,1 是右上角 | \n",
    "| 'axes points' | 距离轴域左下角的点数量 | \n",
    "| 'axes pixels' | 距离轴域左下角的像素数量 | \n",
    "| 'axes fraction' | 0,0 是轴域左下角，1,1 是右上角 | \n",
    "| 'data' | 使用轴域数据坐标系 |\n",
    "\n",
    "arrowprops的参数：#箭头参数,参数类型为字典dict\n",
    "\n",
    "\n",
    "| arrowprops键 | 描述 | \n",
    "|------|-------|\n",
    "| width | 箭头宽度，以点为单位 | \n",
    "| frac | 箭头头部所占据的比例 | \n",
    "| headwidth | 箭头的底部的宽度，以点为单位 | \n",
    "| shrink | 移动提示，并使其离注释点和文本一些距离 | \n",
    "| **kwargs | matplotlib.patches.Polygon的任何键，例如facecolor |  \n",
    "\n",
    "bbox给注解文本增加外框 ，参数类型为字典，常用参数如下：  \n",
    "\n",
    "| 参数 | 描述 | \n",
    "|------|-------|\n",
    "| boxstyle | 方框外形 | \n",
    "| facecolor(简写fc) | 背景颜色 | \n",
    "| edgecolor(简写ec) | 边框线条颜色 | \n",
    "| edgewidth | 边框线条大小 | \n",
    "\n",
    "\n"
   ]
  },
  {
   "cell_type": "markdown",
   "metadata": {},
   "source": [
    "## 使用文本注解绘制树节点"
   ]
  },
  {
   "cell_type": "code",
   "execution_count": 35,
   "metadata": {},
   "outputs": [],
   "source": [
    "# 使用文本注解绘制数节点\n",
    "import matplotlib.pyplot as plt\n",
    "import matplotlib\n",
    "%matplotlib inline\n",
    "# 下面两行代码解决matplot画图中中文的乱码问题\n",
    "plt.rcParams['font.sans-serif']=['SimHei']\n",
    "plt.rcParams['axes.unicode_minus']=False\n",
    "decisionNode = dict(boxstyle='sawtooth',fc='0.8')\n",
    "leafNode = dict(boxstyle='round4',fc='0.8')\n",
    "arrow_args = dict(arrowstyle='<-')\n",
    "\n",
    "#  centerPt节点中心坐标  parentPt 起点坐标\n",
    "def plotNode(nodeTxt,centerPt,parentPt,nodeType):\n",
    "    createPlot.ax1.annotate(nodeTxt,xy=parentPt,xycoords='data',\n",
    "                           xytext=centerPt,textcoords='data',\n",
    "                           va='center',ha='center',bbox=nodeType,arrowprops=arrow_args)\n",
    "    \n",
    "def createPlot():\n",
    "    fig = plt.figure(1,facecolor='white')\n",
    "    # Clear figure 清空绘图区\n",
    "    fig.clf()\n",
    "    # frameon=False隐藏坐标边框\n",
    "    # create.ax1给函数绑定一个属性，是一个全局变量\n",
    "    createPlot.ax1 = plt.subplot(111,frameon=False)\n",
    "    plotNode('决策节点',(0.5,0.1),(0.1,0.5),decisionNode)\n",
    "    plotNode('叶节点',(0.8,0.1),(0.3,0.8),leafNode)\n",
    "    plt.show()"
   ]
  },
  {
   "cell_type": "code",
   "execution_count": 36,
   "metadata": {},
   "outputs": [
    {
     "data": {
      "image/png": "[encoded data removed]",
      "text/plain": [
       "<matplotlib.figure.Figure at 0x116b46ac8>"
      ]
     },
     "metadata": {},
     "output_type": "display_data"
    }
   ],
   "source": [
    "createPlot()"
   ]
  },
  {
   "cell_type": "markdown",
   "metadata": {},
   "source": [
    "## 构造注解树\n",
    "必须知道有多少个叶节点，以便正确确定x轴的长度  \n",
    "必须知道树有多少层，才能正确确定y轴的高度"
   ]
  },
  {
   "cell_type": "code",
   "execution_count": 20,
   "metadata": {},
   "outputs": [],
   "source": [
    "# 获取叶节点的数目和树的层数\n",
    "def getNumLeafs(myTree):\n",
    "    numLeafs = 0\n",
    "    # dict_keys对象,支持iterable 但不支持indexable\n",
    "    firstStr = list(myTree.keys())[0]\n",
    "    secondDict = myTree[firstStr]\n",
    "    for key in secondDict.keys():\n",
    "        # 测试节点的数据类型是否为字典\n",
    "        if type(secondDict[key]).__name__=='dict':\n",
    "            numLeafs += getNumLeafs(secondDict[key])\n",
    "        else:\n",
    "            numLeafs += 1\n",
    "    return numLeafs\n",
    "\n",
    "def getTreeDepth(myTree):\n",
    "    maxDepth = 0\n",
    "    firstStr = list(myTree.keys())[0]\n",
    "    secondDict = myTree[firstStr]\n",
    "    for key in secondDict.keys():\n",
    "        if type(secondDict[key]).__name__=='dict':\n",
    "            thisDepth = 1 + getTreeDepth(secondDict[key])\n",
    "        else:\n",
    "            thisDepth = 1\n",
    "        if thisDepth > maxDepth:\n",
    "            maxDepth = thisDepth\n",
    "    return maxDepth\n",
    "    "
   ]
  },
  {
   "cell_type": "code",
   "execution_count": 21,
   "metadata": {},
   "outputs": [
    {
     "data": {
      "text/plain": [
       "{'no surfacing': {0: 'no',\n",
       "  1: {'flippers': {0: {'head': {0: 'no', 1: 'yes'}}, 1: 'no'}}}}"
      ]
     },
     "execution_count": 21,
     "metadata": {},
     "output_type": "execute_result"
    }
   ],
   "source": [
    "# retrieveTree输出预先存储的树信息，避免了每次测试代码时都要从数据中创建树的麻烦\n",
    "def retrieveTree(i):\n",
    "    listOfTrees = [{'no surfacing':{0:'no',1:{'flippers':{0:'no',1:'yes'}}}},\n",
    "                  {'no surfacing':{0:'no',1:{'flippers':{0:{'head':{0:'no',1:'yes'}},1:'no'}}}}]\n",
    "    return listOfTrees[i]\n",
    "retrieveTree(1)"
   ]
  },
  {
   "cell_type": "code",
   "execution_count": 22,
   "metadata": {},
   "outputs": [
    {
     "data": {
      "text/plain": [
       "3"
      ]
     },
     "execution_count": 22,
     "metadata": {},
     "output_type": "execute_result"
    }
   ],
   "source": [
    "myTree = retrieveTree(0)\n",
    "getNumLeafs(myTree)"
   ]
  },
  {
   "cell_type": "code",
   "execution_count": 23,
   "metadata": {},
   "outputs": [
    {
     "data": {
      "text/plain": [
       "2"
      ]
     },
     "execution_count": 23,
     "metadata": {},
     "output_type": "execute_result"
    }
   ],
   "source": [
    "getTreeDepth(myTree)"
   ]
  },
  {
   "cell_type": "code",
   "execution_count": 52,
   "metadata": {},
   "outputs": [],
   "source": [
    "# plotTree 函数\n",
    "def plotMidText(cntrPt,parentPt,txtString):\n",
    "    # 在cntrPt,parentPt两个坐标中点写一段文本\n",
    "    xMid = (parentPt[0] + cntrPt[0])/2.0\n",
    "    yMid = (parentPt[1] + cntrPt[1])/2.0\n",
    "    #xMid = (parentPt[0] - cntrPt[0]) / 2.0 + cntrPt[0]\n",
    "    #yMid = (parentPt[1] - cntrPt[1]) / 2.0 + cntrPt[1]\n",
    "    # 在父子节点填充文本信息\n",
    "    createPlot.ax1.text(xMid,yMid,txtString)\n",
    "    \n",
    "def plotTree(myTree,parentPt,nodeTxt):\n",
    "    numLeafs = getNumLeafs(myTree)\n",
    "    depth = getTreeDepth(myTree)\n",
    "    firstStr = list(myTree.keys())[0]\n",
    "    # 已画叶节点的x坐标+(1.0+float(numLeafs))*半叶距,cntrPt存储节点中心坐标\n",
    "    cntrPt = (plotTree.xOff + (1.0 + float(numLeafs))*(1/2.0)*(1/plotTree.totalW),plotTree.yOff)\n",
    "    plotMidText(cntrPt,parentPt,nodeTxt)\n",
    "    plotNode(firstStr,cntrPt,parentPt,decisionNode)\n",
    "    secondDict = myTree[firstStr]\n",
    "    plotTree.yOff = plotTree.yOff - 1.0/plotTree.totalD\n",
    "    for key in secondDict.keys():\n",
    "        if type(secondDict[key]).__name__=='dict':\n",
    "            plotTree(secondDict[key],cntrPt,str(key))\n",
    "        else:\n",
    "            plotTree.xOff = plotTree.xOff + 1.0/plotTree.totalW\n",
    "            plotNode(secondDict[key],(plotTree.xOff,plotTree.yOff),cntrPt,leafNode)\n",
    "            plotMidText((plotTree.xOff,plotTree.yOff),cntrPt,str(key))\n",
    "    plotTree.yOff = plotTree.yOff + 1.0/plotTree.totalD\n",
    "    \n",
    "# createPlot()是主函数·\n",
    "def createPlot(inTree):\n",
    "    fig = plt.figure(1,facecolor='white')\n",
    "    fig.clf()\n",
    "    axprops = dict(xticks=[],yticks=[])\n",
    "    createPlot.ax1 = plt.subplot(111,frameon=False,**axprops)\n",
    "    plotTree.totalW = float(getNumLeafs(inTree))\n",
    "    plotTree.totalD = float(getTreeDepth(inTree))\n",
    "    #最左边的叶节点与图的左边界，即x=0的直线，相差一个“半叶距”\n",
    "    plotTree.xOff = -0.5/plotTree.totalW\n",
    "    # yOff代表当前处理的决策树的层，最高层时yOff是1，每到达决策树下一层，yOff都要减少一个层距，\n",
    "    # 例如决策树深度为3，那么层距为1/3\n",
    "    plotTree.yOff = 1.0\n",
    "    plotTree(inTree,(0.5,1.0),'')\n",
    "    plt.show()"
   ]
  },
  {
   "cell_type": "code",
   "execution_count": 53,
   "metadata": {},
   "outputs": [
    {
     "data": {
      "image/png": "[encoded data removed]",
      "text/plain": [
       "<matplotlib.figure.Figure at 0x116b7df98>"
      ]
     },
     "metadata": {},
     "output_type": "display_data"
    }
   ],
   "source": [
    "myTree = retrieveTree(0)\n",
    "createPlot(myTree)"
   ]
  },
  {
   "cell_type": "code",
   "execution_count": 55,
   "metadata": {},
   "outputs": [
    {
     "data": {
      "image/png": "[encoded data removed]",
      "text/plain": [
       "<matplotlib.figure.Figure at 0x116b7dbe0>"
      ]
     },
     "metadata": {},
     "output_type": "display_data"
    }
   ],
   "source": [
    "myTree['no surfacing'][3] = 'maybe'\n",
    "myTree\n",
    "createPlot(myTree)"
   ]
  },
  {
   "cell_type": "markdown",
   "metadata": {},
   "source": [
    "## 测试和存储分类器\n",
    "#### 1. 使用决策树执行分类"
   ]
  },
  {
   "cell_type": "code",
   "execution_count": null,
   "metadata": {},
   "outputs": [],
   "source": []
  },
  {
   "cell_type": "markdown",
   "metadata": {},
   "source": [
    "# cookie："
   ]
  },
  {
   "cell_type": "code",
   "execution_count": 31,
   "metadata": {},
   "outputs": [],
   "source": [
    "# 函数本身就是对象，给一个对象绑定一个属性如下\n",
    "def A():\n",
    "    pass\n",
    "def B():\n",
    "    A.a=1\n",
    "    print(A.a)"
   ]
  },
  {
   "cell_type": "code",
   "execution_count": 40,
   "metadata": {},
   "outputs": [],
   "source": [
    "def createPlot():\n",
    "    fig = plt.figure(1,facecolor='white')\n",
    "    fig.clf()\n",
    "    createPlot.ax1 = plt.subplot(111,frameon=False)\n",
    "    plotNode('no surfacing',(0.5,1),(0.5,1),decisionNode)\n",
    "    plt.show()"
   ]
  },
  {
   "cell_type": "code",
   "execution_count": 41,
   "metadata": {},
   "outputs": [
    {
     "data": {
      "image/png": "[encoded data removed]",
      "text/plain": [
       "<matplotlib.figure.Figure at 0x116c06da0>"
      ]
     },
     "metadata": {},
     "output_type": "display_data"
    }
   ],
   "source": [
    "createPlot()"
   ]
  },
  {
   "cell_type": "code",
   "execution_count": null,
   "metadata": {},
   "outputs": [],
   "source": []
  }
 ],
 "metadata": {
  "kernelspec": {
   "display_name": "Python 3",
   "language": "python",
   "name": "python3"
  },
  "language_info": {
   "codemirror_mode": {
    "name": "ipython",
    "version": 3
   },
   "file_extension": ".py",
   "mimetype": "text/x-python",
   "name": "python",
   "nbconvert_exporter": "python",
   "pygments_lexer": "ipython3",
   "version": "3.6.4"
  }
 },
 "nbformat": 4,
 "nbformat_minor": 2
}
